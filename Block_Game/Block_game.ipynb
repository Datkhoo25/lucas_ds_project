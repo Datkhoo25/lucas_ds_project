{
 "cells": [
  {
   "cell_type": "code",
   "execution_count": 1,
   "metadata": {
    "colab": {
     "base_uri": "https://localhost:8080/"
    },
    "id": "3IbOhUXoOzh4",
    "outputId": "cf95c6a3-a82c-451b-d271-9b24945167ff"
   },
   "outputs": [
    {
     "name": "stdout",
     "output_type": "stream",
     "text": [
      "Requirement already satisfied: pygame in c:\\users\\lucas\\downloads\\annaconda\\lib\\site-packages (2.5.2)\n",
      "pygame 2.5.2 (SDL 2.28.3, Python 3.9.12)\n",
      "Hello from the pygame community. https://www.pygame.org/contribute.html\n"
     ]
    },
    {
     "data": {
      "text/plain": [
       "(5, 0)"
      ]
     },
     "execution_count": 1,
     "metadata": {},
     "output_type": "execute_result"
    }
   ],
   "source": [
    "!pip install pygame\n",
    "import pygame\n",
    "import random\n",
    "import sys\n",
    "\n",
    "pygame.init()\n"
   ]
  },
  {
   "cell_type": "code",
   "execution_count": null,
   "metadata": {
    "id": "ccLFfOzMB2Wm"
   },
   "outputs": [],
   "source": []
  },
  {
   "cell_type": "code",
   "execution_count": 2,
   "metadata": {
    "id": "amY47lslTFmu"
   },
   "outputs": [],
   "source": [
    "class Color:\n",
    "  RED = (255,0,0)\n",
    "  BLUE = (0,0,255)\n",
    "  YELLOW = (255,255,0)\n",
    "  BLACK = (0,0,0)\n"
   ]
  },
  {
   "cell_type": "code",
   "execution_count": 3,
   "metadata": {
    "id": "RUPeWtm6Qy2-"
   },
   "outputs": [],
   "source": [
    "class Player:\n",
    "  def __init__(self, x, y, size, color=Color.RED):\n",
    "    self.x = x\n",
    "    self.y = y\n",
    "    self.size = size\n",
    "    self.color = color\n",
    "\n",
    "  def draw(self, screen):\n",
    "    pygame.draw.rect(screen, self.color, (self.x, self.y, self.size, self.size))\n",
    "\n",
    "\n",
    "  def detect_collision(self, other):\n",
    "\n",
    "    if (other.x >= self.x and other.x < (self.x + self.size)) or (self.x >= other.x and self.x < (other.x + other.size)):\n",
    "      if (other.y >= self.y and other.y < (self.y + self.size)) or (self.y >= other.y and self.y < (other.y + other.size)):\n",
    "        return True\n",
    "    return False"
   ]
  },
  {
   "cell_type": "code",
   "execution_count": 4,
   "metadata": {
    "id": "TG8HDgZLQ68N"
   },
   "outputs": [],
   "source": [
    "class Enemy(Player): #It will take from the player class\n",
    "  def __init__(self, x, y):\n",
    "    super().__init__(x, y, size=50, color=Color.BLUE)"
   ]
  },
  {
   "cell_type": "code",
   "execution_count": 5,
   "metadata": {
    "id": "Q0N-9nneYs-8"
   },
   "outputs": [],
   "source": [
    "class LargeEnemy(Player): #It will take from the player class\n",
    "  def __init__(self, x, y):\n",
    "    super().__init__(x, y, size=100, color=Color.BLUE)"
   ]
  },
  {
   "cell_type": "code",
   "execution_count": 6,
   "metadata": {
    "id": "Sof907HIc5Rz"
   },
   "outputs": [],
   "source": [
    "class Human(Player): #It will take from the player class\n",
    "  def __init__(self, x, y):\n",
    "    super().__init__(x, y, size=50, color=Color.RED)"
   ]
  },
  {
   "cell_type": "code",
   "execution_count": 7,
   "metadata": {
    "id": "JuT0Cs5VdYa0"
   },
   "outputs": [],
   "source": [
    "class Screen:\n",
    "  def __init__(self, width=800, height=600, background_Color = Color.BLACK, font_type='monospace', font_size=35, clock_tick=30):\n",
    "    self.width = width\n",
    "    self.height = height\n",
    "    self.background_Color = background_Color\n",
    "    self.screen = pygame.display.set_mode((width, height))\n",
    "    self.font = pygame.font.SysFont(font_type, font_size)\n",
    "    self.clock = pygame.time.Clock()\n",
    "    self.clock_tick = clock_tick\n",
    "\n",
    "\n",
    "  def refresh_background(self):\n",
    "    self.screen.fill(self.background_Color)\n",
    "\n",
    "  def draw_enemies(self, enemy_list):\n",
    "    for enemy in enemy_list:\n",
    "      enemy.draw(self.screen)\n",
    "\n",
    "  def draw_player(self, player):\n",
    "    player.draw(self.screen)\n",
    "\n",
    "  def draw_score_label(self, score, labelcolor=Color.YELLOW):\n",
    "    text = f\"Score: {score}\"\n",
    "    label = self.font.render(text, 1, labelcolor)\n",
    "    self.screen.blit(label, (self.width-200, self.height-40))\n",
    "\n",
    "  def update_screen(self, enemy_list, player, score): #A connected function to call everything together\n",
    "    self.refresh_background()\n",
    "    self.draw_enemies(enemy_list)\n",
    "    self.draw_player(player)\n",
    "    self.draw_score_label(score)\n",
    "    self.clock.tick(self.clock_tick)\n",
    "    pygame.display.update()"
   ]
  },
  {
   "cell_type": "code",
   "execution_count": 8,
   "metadata": {
    "id": "GvDyHU_peSjb"
   },
   "outputs": [],
   "source": [
    "class Game:\n",
    "  def __init__(self, speed=10, score=0, max_enemies=10, delay=0.1):\n",
    "    self.speed = speed\n",
    "    self.score = score\n",
    "    self.max_enemies = max_enemies\n",
    "    self.delay = delay\n",
    "    self.enemy_list = []\n",
    "\n",
    "  def drop_enemies(self, screen_width):\n",
    "    delay = random.random()\n",
    "    if len(self.enemy_list) < self.max_enemies and delay < self.delay:\n",
    "      randomx = random.randint(0, screen_width)\n",
    "      y_pos = 0\n",
    "      enemy = Enemy(randomx, y_pos)\n",
    "      self.enemy_list.append(enemy) #Getter/Setter wise, the enemy_list is directly set/updated\n",
    "\n",
    "  def update_enemy_positions(self, screen_height):\n",
    "    new_enemy_list = []\n",
    "    for enemy in self.enemy_list:\n",
    "      if enemy.y >= 0 and enemy.y < screen_height:\n",
    "        enemy.y += self.speed\n",
    "        new_enemy_list.append(enemy)\n",
    "      else:\n",
    "        self.score += 1           #Getter/Setter wise, the score is directly set/updated\n",
    "    self.enemy_list = new_enemy_list\n",
    "\n",
    "  def set_level(self):\n",
    "    if self.score < 20:\n",
    "      self.speed = 5\n",
    "    elif self.score < 40:\n",
    "      self.speed = 8\n",
    "    elif self.score < 60:\n",
    "      self.speed = 12\n",
    "    else:\n",
    "      self.speed = 15\n",
    "\n",
    "  def collision_check(self, player):\n",
    "    for enemy in self.enemy_list:\n",
    "      if enemy.detect_collision(player):\n",
    "        return True\n",
    "    return False"
   ]
  },
  {
   "cell_type": "code",
   "execution_count": 9,
   "metadata": {
    "colab": {
     "base_uri": "https://localhost:8080/",
     "height": 991
    },
    "id": "LOhhDnPNyOcR",
    "outputId": "50c2bf13-e0f8-41d6-f7cd-09cb60eaa3b4"
   },
   "outputs": [],
   "source": [
    "game_over = False\n",
    "\n",
    "screen = Screen()\n",
    "player = Human(screen.width/2, screen.height-100)\n",
    "game = Game()\n",
    "\n",
    "while not game_over:\n",
    "\n",
    "  for event in pygame.event.get():\n",
    "    if event.type == pygame.QUIT:\n",
    "      sys.exit()\n",
    "\n",
    "    if event.type == pygame.KEYDOWN:\n",
    "\n",
    "      if event.key == pygame.K_LEFT:\n",
    "        player.x -= player.size            #Directly setting the position\n",
    "      elif event.key == pygame.K_RIGHT:\n",
    "        player.x += player.size            #Directly setting the position\n",
    "\n",
    "  game.drop_enemies(screen.width)             #This line create item in the enemy_list\n",
    "  game.update_enemy_positions(screen.height)  #This line update item in the enemy_list, score is updated as well\n",
    "  game.set_level()                           #Hence this line is able to access the updated score abstracted in the Game class.\n",
    "  screen.update_screen(game.enemy_list, player, game.score) #And Hence this line is able to access the updated enemy_list abstracted in the Game class, which is game.enemy_list\n",
    "\n",
    "\n",
    "  if game.collision_check(player):\n",
    "    game_over = True\n",
    "    break"
   ]
  },
  {
   "cell_type": "code",
   "execution_count": null,
   "metadata": {},
   "outputs": [],
   "source": []
  },
  {
   "cell_type": "code",
   "execution_count": null,
   "metadata": {},
   "outputs": [],
   "source": []
  }
 ],
 "metadata": {
  "colab": {
   "provenance": []
  },
  "kernelspec": {
   "display_name": "Python 3 (ipykernel)",
   "language": "python",
   "name": "python3"
  },
  "language_info": {
   "codemirror_mode": {
    "name": "ipython",
    "version": 3
   },
   "file_extension": ".py",
   "mimetype": "text/x-python",
   "name": "python",
   "nbconvert_exporter": "python",
   "pygments_lexer": "ipython3",
   "version": "3.9.12"
  }
 },
 "nbformat": 4,
 "nbformat_minor": 1
}
